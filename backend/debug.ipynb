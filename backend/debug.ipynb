{
 "cells": [
  {
   "cell_type": "code",
   "execution_count": 2,
   "metadata": {},
   "outputs": [
    {
     "name": "stdout",
     "output_type": "stream",
     "text": [
      "Loading function\n",
      "Loading function\n",
      "getChannelInfoFromYT start\n",
      "getChannelInfoFromYT finish\n",
      "importChannelInfoDocument start\n",
      "importChannelInfoDocument finish\n"
     ]
    },
    {
     "data": {
      "text/plain": [
       "{'statusCode': 201,\n",
       " 'headers': {'Access-Control-Allow-Headers': 'Content-Type',\n",
       "  'Access-Control-Allow-Origin': '*',\n",
       "  'Access-Control-Allow-Methods': 'OPTIONS,POST,GET'},\n",
       " 'body': 'OK'}"
      ]
     },
     "execution_count": 2,
     "metadata": {},
     "output_type": "execute_result"
    }
   ],
   "source": [
    "# チャンネル情報更新\n",
    "import os\n",
    "from dotenv import load_dotenv\n",
    "load_dotenv()\n",
    "\n",
    "from lambda_function_query_dynamo import lambda_handler as lambda_handler_query_dynamo\n",
    "from lambda_function_update_dynamo import lambda_handler as lambda_handler_update_dynamo\n",
    "from lambda_function_webhook import lambda_handler as lambda_function_webhook\n",
    "from util import PATH_PARAMETER_AUTH, PATH_PARAMETER_CHANNEL_INFO, PATH_PARAMETER_INFORMATION, PATH_PARAMETER_SCHEDULE_TWEET, PATH_PARAMETER_SYSTEM, PATH_PARAMETER_VIDEO, PATH_PARAMETER_VIDEO_FORCE_UPDATE, PATH_PARAMETER_VIDEO_LIST, PATH_PARAMETER_YOUTUBE_VIDEO\n",
    "\n",
    "event = {}\n",
    "event['exec_mode'] = 'UPDATE_CHANNEL_INFO'\n",
    "event['channel'] = 'marin'\n",
    "event['force'] = True\n",
    "\n",
    "lambda_handler_update_dynamo(event,None)\n",
    "\n"
   ]
  },
  {
   "cell_type": "code",
   "execution_count": 8,
   "metadata": {},
   "outputs": [
    {
     "name": "stdout",
     "output_type": "stream",
     "text": [
      "getVideoListFromYT start\n",
      "importVideoIdsDocument start\n",
      "importVideoIdsDocument start\n",
      "dynamodb import エラー\n",
      "An error occurred (ValidationException) when calling the BatchWriteItem operation: Provided list of item keys contains duplicates\n",
      "importVideoIdsDocument finish\n",
      "getVideoListFromYT finish\n",
      "importVideoListDocument start\n",
      "[writeing]: DBhAK8YV-9Y\n",
      "[writeing]: 7dpdQO8Q6ho\n",
      "[writeing]: RuBasVmfeDk\n",
      "[writeing]: O-xyezSbAKw\n",
      "[writeing]: hu2HNdbsu6o\n",
      "[writeing]: T7k2w2PEkqU\n",
      "[writeing]: mHqHBo-KiA4\n",
      "[writeing]: Ct0AHTeNPzc\n",
      "[writeing]: EOzDbQH2-H8\n",
      "[writeing]: Tz-oP_P68GI\n",
      "[writeing]: NeSapD6zicU\n",
      "[writeing]: 0VUQjTLYOb0\n",
      "[writeing]: E5OWNVsgxks\n",
      "[writeing]: 6Y93GN3PVgE\n",
      "[writeing]: uqlHiTwjuNI\n",
      "[writeing]: b_aGuhsmxgI\n",
      "[writeing]: J_wlkwpHHa8\n",
      "[writeing]: nh-LPDPy704\n",
      "[writeing]: -APv745qzpA\n",
      "[writeing]: JzZ99_FmL2o\n",
      "[writeing]: 7dpdQO8Q6ho\n",
      "dynamodb import エラー\n",
      "An error occurred (ValidationException) when calling the BatchWriteItem operation: Provided list of item keys contains duplicates\n",
      "importVideoListDocument finish\n",
      "lambda finish {'exec_mode': 'UPDATE_VIDEO_LIST', 'channel': 'peko', 'force': False}\n"
     ]
    },
    {
     "data": {
      "text/plain": [
       "{'statusCode': 201,\n",
       " 'headers': {'Access-Control-Allow-Headers': 'Content-Type',\n",
       "  'Access-Control-Allow-Origin': '*',\n",
       "  'Access-Control-Allow-Methods': 'OPTIONS,POST,GET'},\n",
       " 'body': 'OK'}"
      ]
     },
     "execution_count": 8,
     "metadata": {},
     "output_type": "execute_result"
    }
   ],
   "source": [
    "# 配信情報更新\n",
    "import os\n",
    "from dotenv import load_dotenv\n",
    "load_dotenv()\n",
    "\n",
    "from lambda_function_query_dynamo import lambda_handler as lambda_handler_query_dynamo\n",
    "from lambda_function_update_dynamo import lambda_handler as lambda_handler_update_dynamo\n",
    "from lambda_function_webhook import lambda_handler as lambda_function_webhook\n",
    "\n",
    "from util import PATH_PARAMETER_AUTH, PATH_PARAMETER_CHANNEL_INFO, PATH_PARAMETER_INFORMATION, PATH_PARAMETER_SCHEDULE_TWEET, PATH_PARAMETER_SYSTEM, PATH_PARAMETER_VIDEO, PATH_PARAMETER_VIDEO_FORCE_UPDATE, PATH_PARAMETER_VIDEO_LIST, PATH_PARAMETER_YOUTUBE_VIDEO\n",
    "\n",
    "\n",
    "\n",
    "event = {}\n",
    "event['exec_mode'] = 'UPDATE_VIDEO_LIST'\n",
    "event['channel'] = 'peko'\n",
    "event['force'] = False\n",
    "\n",
    "\n",
    "\n",
    "lambda_handler_update_dynamo(event,None)\n",
    "\n",
    "# lambda_handler_update_dynamo(event,None)\n",
    "\n"
   ]
  }
 ],
 "metadata": {
  "kernelspec": {
   "display_name": "Python 3",
   "language": "python",
   "name": "python3"
  },
  "language_info": {
   "codemirror_mode": {
    "name": "ipython",
    "version": 3
   },
   "file_extension": ".py",
   "mimetype": "text/x-python",
   "name": "python",
   "nbconvert_exporter": "python",
   "pygments_lexer": "ipython3",
   "version": "3.11.3"
  }
 },
 "nbformat": 4,
 "nbformat_minor": 2
}
